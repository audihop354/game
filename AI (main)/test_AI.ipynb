{
 "cells": [
  {
   "cell_type": "code",
   "execution_count": 1,
   "metadata": {},
   "outputs": [],
   "source": [
    "import tensorflow as tf\n",
    "from tensorflow import keras\n",
    "import numpy as np\n",
    "import pandas as pd\n",
    "from preprocessing import pre_processingdata\n",
    "from preprocessing import encode_AI\n",
    "from preprocessing import sequences_AI\n",
    "from tensorflow.keras.preprocessing.sequence import pad_sequences\n",
    "from tensorflow.keras.utils import to_categorical\n",
    "from keras.preprocessing.text import Tokenizer"
   ]
  },
  {
   "cell_type": "code",
   "execution_count": 2,
   "metadata": {},
   "outputs": [],
   "source": [
    "EMBEDDING_DIM = 400 # HOW BIG IS EACH WORD VECTOR\n",
    "MAX_VOCAB_SIZE = 10000 # HOW MANY UNIQUE WORDS TO USE\n",
    "MAX_SEQUENCE_LENGTH = 300 # MAX NUMBER OF WORDS IN A COMMENT TO USE"
   ]
  },
  {
   "cell_type": "code",
   "execution_count": 14,
   "metadata": {},
   "outputs": [],
   "source": [
    "review_list = [[\"Game như con cặc\",0],[\"Thôi tắt game đi chán quá\",0],[\"Hay\",0],[\"Vui hợp lý luôn\",0],[\"ổn áp\",0]]\n",
    "data_input = pd.DataFrame(review_list)\n",
    "labels_input = data_input.iloc[:, 1].values\n",
    "reviews_input = data_input.iloc[:, 0].values\n",
    "data_input = pre_processingdata(reviews_input)\n",
    "labels_input = encode_AI(labels_input)\n",
    "word_reviews_input = pre_processingdata(reviews_input)\n",
    "tokenizer = Tokenizer()\n",
    "tokenizer.fit_on_texts(word_reviews_input)"
   ]
  },
  {
   "cell_type": "code",
   "execution_count": 15,
   "metadata": {},
   "outputs": [],
   "source": [
    "sequences_input = tokenizer.texts_to_sequences(word_reviews_input)\n",
    "data_input = pad_sequences(sequences_input, maxlen=MAX_SEQUENCE_LENGTH)"
   ]
  }
 ],
 "metadata": {
  "kernelspec": {
   "display_name": "Python 3",
   "language": "python",
   "name": "python3"
  },
  "language_info": {
   "codemirror_mode": {
    "name": "ipython",
    "version": 3
   },
   "file_extension": ".py",
   "mimetype": "text/x-python",
   "name": "python",
   "nbconvert_exporter": "python",
   "pygments_lexer": "ipython3",
   "version": "3.10.7"
  },
  "orig_nbformat": 4,
  "vscode": {
   "interpreter": {
    "hash": "a42ccb73e7d9bfdf27e036f1d2b8b681e55fc0743cc5586bc2474d4a60f4b886"
   }
  }
 },
 "nbformat": 4,
 "nbformat_minor": 2
}
