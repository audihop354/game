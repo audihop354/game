{
 "cells": [
  {
   "cell_type": "code",
   "execution_count": 15,
   "id": "5ed5a1e6",
   "metadata": {},
   "outputs": [
    {
     "name": "stdout",
     "output_type": "stream",
     "text": [
      "Logged in\n",
      "['', 'Tin', 'Tạo bài viết', 'Bài viết trên Bảng tin', 'Được tài trợ', 'Người liên hệ', 'Cuộc trò chuyện nhóm']\n",
      "[]\n",
      "https://www.facebook.com/photo/?fbid=1591433654611915&set=a.3329397837946480\n",
      "['', 'Tin', 'Tạo bài viết', 'Bài viết trên Bảng tin', 'Được tài trợ', 'Người liên hệ', 'Cuộc trò chuyện nhóm']\n",
      "[]\n",
      "https://www.facebook.com/photo/?fbid=1591433654611915&set=a.33293978379464810\n",
      "['', 'Tin', 'Tạo bài viết', 'Bài viết trên Bảng tin', 'Được tài trợ', 'Người liên hệ', 'Cuộc trò chuyện nhóm']\n",
      "[]\n",
      "https://www.facebook.com/photo/?fbid=1591433654611915&set=a.33293978379464820\n",
      "['', 'Tin', 'Tạo bài viết', 'Bài viết trên Bảng tin', 'Được tài trợ', 'Người liên hệ', 'Cuộc trò chuyện nhóm']\n",
      "[]\n",
      "https://www.facebook.com/photo/?fbid=1591433654611915&set=a.33293978379464830\n",
      "['', 'Tin', 'Tạo bài viết', 'Bài viết trên Bảng tin', 'Được tài trợ', 'Người liên hệ', 'Cuộc trò chuyện nhóm']\n",
      "[]\n",
      "https://www.facebook.com/photo/?fbid=1591433654611915&set=a.33293978379464840\n",
      "['', 'Tin', 'Tạo bài viết', 'Bài viết trên Bảng tin', 'Được tài trợ', 'Người liên hệ', 'Cuộc trò chuyện nhóm']\n",
      "[]\n",
      "https://www.facebook.com/photo/?fbid=1591433654611915&set=a.33293978379464850\n",
      "data saved\n"
     ]
    }
   ],
   "source": [
    "from selenium import webdriver\n",
    "from webdriver_manager.chrome import ChromeDriverManager\n",
    "from selenium.webdriver.common.keys import Keys\n",
    "from selenium.webdriver.support import expected_conditions as EC\n",
    "from selenium.webdriver.common.by import By\n",
    "from selenium.webdriver.support.wait import WebDriverWait\n",
    "import time\n",
    "import pandas as pd\n",
    "\n",
    "#code to ignore browser notifications\n",
    "chrome_options = webdriver.ChromeOptions()\n",
    "prefs = {\"profile.default_content_setting_values.notifications\" : 2}\n",
    "chrome_options.add_experimental_option(\"prefs\",prefs)\n",
    "from selenium.webdriver.support.wait import WebDriverWait\n",
    "\n",
    "driver = webdriver.Chrome(ChromeDriverManager().install())\n",
    "\n",
    "#open the webpage\n",
    "driver.get(\"https://wwww.facebook.com/\")\n",
    "\n",
    "#target username\n",
    "username = WebDriverWait(driver, 10).until(EC.element_to_be_clickable((By.CSS_SELECTOR, \"input[name='email']\")))\n",
    "password = WebDriverWait(driver, 10).until(EC.element_to_be_clickable((By.CSS_SELECTOR, \"input[name='pass']\")))\n",
    "\n",
    "#enter username and password\n",
    "username.clear()\n",
    "\n",
    "\n",
    "username.send_keys(\"quochuy.bui.private@gmail.com\")\n",
    "password.clear()\n",
    "#use your username and password\n",
    "password.send_keys(\"pain1033212@\")\n",
    "\n",
    "#target the login button and click it\n",
    "time.sleep(5)\n",
    "button = WebDriverWait(driver,5).until(EC.element_to_be_clickable((By.CSS_SELECTOR, \"button[type='submit']\"))).click()\n",
    "\n",
    "#We are logged in!\n",
    "print(\"Logged in\")\n",
    "#program to parse user name who posted comment\n",
    "def Nameparse():\n",
    "    driver.get(url)\n",
    "    names = driver.find_elements_by_tag_name('h3')\n",
    "    for name in names:\n",
    "        name=name.text\n",
    "        Name.append(name)\n",
    "\n",
    "#program to parse comments\n",
    "def Commentparse():\n",
    "    driver.get(url)\n",
    "    comments=driver.find_elements_by_css_selector(\"[class='ed']\") or driver.find_elements_by_css_selector(\"[class='ee']\") or driver.find_elements_by_css_selector(\"[class='eg']\")\n",
    "    for comment in comments:\n",
    "        comment=comment.text\n",
    "        Comment.append(comment)\n",
    " \n",
    "#Program to scrap comments from each page\n",
    "Name=[]\n",
    "Comment=[]\n",
    "cnt=0\n",
    "#program to parse comments from 5 pages, if you want comments from all pages then use while loop\n",
    "for i in range(6):\n",
    "#while True:\n",
    "    url=(\"https://www.facebook.com/photo/?fbid=1591433654611915&set=a.332939783794648\")\n",
    "    url=url+str(cnt)\n",
    "    Nameparse()\n",
    "    print(Name)\n",
    "    Commentparse()\n",
    "    print(Comment)\n",
    "    print(url)\n",
    "    cnt=cnt+10  \n",
    "\n",
    "#create a dataframe\n",
    "data = pd.DataFrame({'Comment': Comment})\n",
    "data.to_csv('Facebbok_comments.csv')\n",
    "print('data saved')"
   ]
  },
  {
   "cell_type": "code",
   "execution_count": 16,
   "id": "60dd308a",
   "metadata": {},
   "outputs": [
    {
     "data": {
      "text/html": [
       "<div>\n",
       "<style scoped>\n",
       "    .dataframe tbody tr th:only-of-type {\n",
       "        vertical-align: middle;\n",
       "    }\n",
       "\n",
       "    .dataframe tbody tr th {\n",
       "        vertical-align: top;\n",
       "    }\n",
       "\n",
       "    .dataframe thead th {\n",
       "        text-align: right;\n",
       "    }\n",
       "</style>\n",
       "<table border=\"1\" class=\"dataframe\">\n",
       "  <thead>\n",
       "    <tr style=\"text-align: right;\">\n",
       "      <th></th>\n",
       "      <th>Comment</th>\n",
       "    </tr>\n",
       "  </thead>\n",
       "  <tbody>\n",
       "  </tbody>\n",
       "</table>\n",
       "</div>"
      ],
      "text/plain": [
       "Empty DataFrame\n",
       "Columns: [Comment]\n",
       "Index: []"
      ]
     },
     "execution_count": 16,
     "metadata": {},
     "output_type": "execute_result"
    }
   ],
   "source": [
    "data"
   ]
  },
  {
   "cell_type": "code",
   "execution_count": null,
   "id": "d1984c96",
   "metadata": {},
   "outputs": [],
   "source": []
  }
 ],
 "metadata": {
  "kernelspec": {
   "display_name": "Python 3 (ipykernel)",
   "language": "python",
   "name": "python3"
  },
  "language_info": {
   "codemirror_mode": {
    "name": "ipython",
    "version": 3
   },
   "file_extension": ".py",
   "mimetype": "text/x-python",
   "name": "python",
   "nbconvert_exporter": "python",
   "pygments_lexer": "ipython3",
   "version": "3.9.13"
  }
 },
 "nbformat": 4,
 "nbformat_minor": 5
}
