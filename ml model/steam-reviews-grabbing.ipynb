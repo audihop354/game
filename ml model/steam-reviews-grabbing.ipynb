{
 "cells": [
  {
   "cell_type": "code",
   "execution_count": 38,
   "id": "a45fdb15",
   "metadata": {},
   "outputs": [],
   "source": [
    "import requests\n",
    "\n",
    "def get_reviews(appid, params={'json':1}):\n",
    "        url = 'https://store.steampowered.com/appreviews/'\n",
    "        response = requests.get(url=url+appid, params=params, headers={'User-Agent': 'Mozilla/5.0'})\n",
    "        return response.json()\n",
    "    \n",
    "def get_n_reviews(appid, n=100):\n",
    "    reviews = []\n",
    "    cursor = '*'\n",
    "    params = {\n",
    "            'json' : 1,\n",
    "            'filter' : 'all',\n",
    "            'language' : 'vietnamese',\n",
    "            'day_range' : 9223372036854775807,\n",
    "            'review_type' : 'negative',\n",
    "            'purchase_type' : 'all'\n",
    "            }\n",
    "\n",
    "    while n > 0:\n",
    "        params['cursor'] = cursor.encode()\n",
    "        params['num_per_page'] = min(100, n)\n",
    "        n -= 100\n",
    "\n",
    "        response = get_reviews(appid, params)\n",
    "        cursor = response['cursor']\n",
    "        reviews += response['reviews']\n",
    "\n",
    "        if len(response['reviews']) < 100: break\n",
    "\n",
    "    return reviews"
   ]
  },
  {
   "cell_type": "code",
   "execution_count": 39,
   "id": "3a81fbdf",
   "metadata": {},
   "outputs": [],
   "source": [
    "import pandas as pd\n",
    "\n",
    "reviews = []\n",
    "reviews += get_n_reviews('271590',100)\n",
    "df = pd.DataFrame(reviews)[['review','voted_up']]\n",
    "df.to_csv('SteamReviewsData.csv')"
   ]
  },
  {
   "cell_type": "code",
   "execution_count": null,
   "id": "a077623d",
   "metadata": {},
   "outputs": [],
   "source": []
  }
 ],
 "metadata": {
  "kernelspec": {
   "display_name": "Python 3 (ipykernel)",
   "language": "python",
   "name": "python3"
  },
  "language_info": {
   "codemirror_mode": {
    "name": "ipython",
    "version": 3
   },
   "file_extension": ".py",
   "mimetype": "text/x-python",
   "name": "python",
   "nbconvert_exporter": "python",
   "pygments_lexer": "ipython3",
   "version": "3.9.13"
  }
 },
 "nbformat": 4,
 "nbformat_minor": 5
}
